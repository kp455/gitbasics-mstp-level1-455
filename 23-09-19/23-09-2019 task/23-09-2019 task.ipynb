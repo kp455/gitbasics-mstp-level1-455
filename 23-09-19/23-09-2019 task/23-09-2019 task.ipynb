{
 "cells": [
  {
   "cell_type": "markdown",
   "metadata": {},
   "source": [
    "TASK"
   ]
  },
  {
   "cell_type": "markdown",
   "metadata": {},
   "source": [
    "1.Write a Python program to get a string from a given string where all occurrences of its first char have been changed to '$', except the first char itself. \n",
    "Sample String : 'restart'\n",
    "Expected Result : 'resta$t' "
   ]
  },
  {
   "cell_type": "code",
   "execution_count": 5,
   "metadata": {},
   "outputs": [
    {
     "name": "stdout",
     "output_type": "stream",
     "text": [
      "resta$t\n"
     ]
    }
   ],
   "source": [
    "a=\"restart\"\n",
    "b=a[0:1:]\n",
    "c=a[1::]\n",
    "d=c.replace('r','$')\n",
    "print(b+d)\n"
   ]
  },
  {
   "cell_type": "markdown",
   "metadata": {},
   "source": [
    "2.Take a string “Problem Solving Using Python” \n",
    "●Find the length of the string \n",
    "●Change the string to lowercase \n",
    "●Print the string in reverse order \n",
    "●Split the string\n",
    "●Print the string without spaces \n",
    "●Find how many times “s” is repeated in a given string "
   ]
  },
  {
   "cell_type": "code",
   "execution_count": 8,
   "metadata": {},
   "outputs": [
    {
     "name": "stdout",
     "output_type": "stream",
     "text": [
      "28\n",
      "problem solving using python\n",
      "nohtyP gnisU gnivloS melborP\n",
      "['Problem', 'Solving', 'Using', 'Python']\n",
      "['Problem', 'Solving', 'Using', 'Python']\n",
      "ProblemSolvingUsingPython1\n"
     ]
    }
   ],
   "source": [
    "u=\"Problem Solving Using Python\"\n",
    "print(len(u))\n",
    "print(u.lower())\n",
    "print(u[-1::-1])\n",
    "print(u.split())\n",
    "a=u.split(\" \")\n",
    "print(a)\n",
    "for i in range(0,len(a)):\n",
    "    print(a[i],end=\"\")\n",
    "print(u.count(\"s\"))"
   ]
  },
  {
   "cell_type": "markdown",
   "metadata": {},
   "source": [
    "3.Take a string “python programming by python platforms”\n",
    "●Find how many times “python” is repeated\n"
   ]
  },
  {
   "cell_type": "code",
   "execution_count": 5,
   "metadata": {},
   "outputs": [
    {
     "name": "stdout",
     "output_type": "stream",
     "text": [
      "2\n"
     ]
    }
   ],
   "source": [
    "t=\"python programming by python platforms\"\n",
    "print(t.count(\"python\"))"
   ]
  },
  {
   "cell_type": "markdown",
   "metadata": {},
   "source": []
  },
  {
   "cell_type": "code",
   "execution_count": null,
   "metadata": {},
   "outputs": [],
   "source": []
  }
 ],
 "metadata": {
  "kernelspec": {
   "display_name": "Python 3",
   "language": "python",
   "name": "python3"
  },
  "language_info": {
   "codemirror_mode": {
    "name": "ipython",
    "version": 3
   },
   "file_extension": ".py",
   "mimetype": "text/x-python",
   "name": "python",
   "nbconvert_exporter": "python",
   "pygments_lexer": "ipython3",
   "version": "3.7.3"
  }
 },
 "nbformat": 4,
 "nbformat_minor": 2
}
