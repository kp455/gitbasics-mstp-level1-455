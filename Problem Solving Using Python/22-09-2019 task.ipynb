{
 "cells": [
  {
   "cell_type": "markdown",
   "metadata": {},
   "source": [
    "1.Write a Python program which accepts the user's first and last name and print them in reverse order with a space between them. "
   ]
  },
  {
   "cell_type": "code",
   "execution_count": 3,
   "metadata": {},
   "outputs": [
    {
     "name": "stdout",
     "output_type": "stream",
     "text": [
      "praveena kakarla\n"
     ]
    }
   ],
   "source": [
    "x=\"kakarla\"\n",
    "y=\"praveena\"\n",
    "print(y,x)"
   ]
  },
  {
   "cell_type": "markdown",
   "metadata": {},
   "source": [
    "2.Write a Python program to accept a filename from the user and print the extension of that. \n",
    "Sample filename : abc. java\n",
    "Output : java "
   ]
  },
  {
   "cell_type": "code",
   "execution_count": 2,
   "metadata": {},
   "outputs": [
    {
     "name": "stdout",
     "output_type": "stream",
     "text": [
      "abc.java\n",
      "java\n"
     ]
    }
   ],
   "source": [
    "k=input()\n",
    "x=k.split('.')\n",
    "y=x[1]\n",
    "print (y)"
   ]
  },
  {
   "cell_type": "markdown",
   "metadata": {},
   "source": [
    "3. Write a Python program that accepts an integer (n) and computes the value of n+nn+nnn. \n",
    "Sample value of n is 5\n",
    "Expected Result : 615 "
   ]
  },
  {
   "cell_type": "code",
   "execution_count": 1,
   "metadata": {},
   "outputs": [
    {
     "name": "stdout",
     "output_type": "stream",
     "text": [
      "5\n",
      "55\n",
      "555\n",
      "615\n"
     ]
    }
   ],
   "source": [
    "n=int(input())\n",
    "nn=int(input())\n",
    "nnn=int(input())\n",
    "print(n+nn+nnn)"
   ]
  },
  {
   "cell_type": "markdown",
   "metadata": {},
   "source": [
    "4.Write a Python program to get a single string from two given strings, separated by a space and swap the first two characters of each string. \n",
    "Sample String : 'abc', 'xyz'\n",
    "Expected Result : 'xyc abz' "
   ]
  },
  {
   "cell_type": "code",
   "execution_count": 5,
   "metadata": {},
   "outputs": [
    {
     "name": "stdout",
     "output_type": "stream",
     "text": [
      "'abc xyz'\n",
      "[\"'abc\", \"xyz'\"]\n",
      "'xyc abz'\n"
     ]
    }
   ],
   "source": [
    "n=(input())\n",
    "r=n.split(\" \")\n",
    "print(r)\n",
    "r1=r[0].replace(\"ab\",\"xy\")\n",
    "r2=r[1].replace(\"xy\",\"ab\")\n",
    "print(r1,r2)\n"
   ]
  },
  {
   "cell_type": "markdown",
   "metadata": {},
   "source": [
    "5.Write a Python script that takes input from the user and displays that input back in upper and lower cases "
   ]
  },
  {
   "cell_type": "code",
   "execution_count": 11,
   "metadata": {},
   "outputs": [
    {
     "name": "stdout",
     "output_type": "stream",
     "text": [
      "hrugood\n",
      "hru  GOOD\n",
      "hru good\n"
     ]
    }
   ],
   "source": [
    "user_input = input(\"hru\")\n",
    "print(\"hru \", user_input.upper())\n",
    "print(\"hru\", user_input.lower())\n"
   ]
  },
  {
   "cell_type": "markdown",
   "metadata": {},
   "source": [
    "6.Write a Python program to lowercase first n characters in a string "
   ]
  },
  {
   "cell_type": "code",
   "execution_count": 8,
   "metadata": {},
   "outputs": [
    {
     "name": "stdout",
     "output_type": "stream",
     "text": [
      "kakaRLAPRAVEENA\n"
     ]
    }
   ],
   "source": [
    "str = 'KAKARLAPRAVEENA'\n",
    "print(str[:4].lower() + str[4:])"
   ]
  },
  {
   "cell_type": "code",
   "execution_count": null,
   "metadata": {},
   "outputs": [],
   "source": []
  }
 ],
 "metadata": {
  "kernelspec": {
   "display_name": "Python 3",
   "language": "python",
   "name": "python3"
  },
  "language_info": {
   "codemirror_mode": {
    "name": "ipython",
    "version": 3
   },
   "file_extension": ".py",
   "mimetype": "text/x-python",
   "name": "python",
   "nbconvert_exporter": "python",
   "pygments_lexer": "ipython3",
   "version": "3.7.3"
  }
 },
 "nbformat": 4,
 "nbformat_minor": 2
}
