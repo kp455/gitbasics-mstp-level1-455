{
 "cells": [
  {
   "cell_type": "markdown",
   "metadata": {},
   "source": [
    "1..Function to print all numbers divisible by 6 and not a factor \n",
    "of 100 in a given range(lb, ub) inclusive"
   ]
  },
  {
   "cell_type": "code",
   "execution_count": 1,
   "metadata": {},
   "outputs": [
    {
     "name": "stdout",
     "output_type": "stream",
     "text": [
      "10\n",
      "20\n",
      "12\n",
      "18\n"
     ]
    }
   ],
   "source": [
    "def divisible(lb):\n",
    "    if(100%lb!=0)&(lb%6==0):\n",
    "        print(lb)\n",
    "lb=int(input())\n",
    "ub=int(input())\n",
    "for i in range(lb,ub):\n",
    "    divisible(i)"
   ]
  },
  {
   "cell_type": "markdown",
   "metadata": {},
   "source": [
    "2..program to print the all the even no in range inclusive"
   ]
  },
  {
   "cell_type": "code",
   "execution_count": 2,
   "metadata": {},
   "outputs": [
    {
     "name": "stdout",
     "output_type": "stream",
     "text": [
      "2\n",
      "10\n",
      "2\n",
      "4\n",
      "6\n",
      "8\n"
     ]
    }
   ],
   "source": [
    "def evenrange(lb):\n",
    "    if(lb%2==0):\n",
    "        return 1\n",
    "    else:\n",
    "        return 0\n",
    "lb=int(input())\n",
    "ub=int(input())\n",
    "for i in range(lb,ub):\n",
    "    if evenrange(i)==1:\n",
    "        print(i)"
   ]
  },
  {
   "cell_type": "markdown",
   "metadata": {},
   "source": [
    "3.Function to find the average of cubes of all even numbers in a \n",
    "given range(lb, ub) inclusive"
   ]
  },
  {
   "cell_type": "code",
   "execution_count": 4,
   "metadata": {},
   "outputs": [
    {
     "name": "stdout",
     "output_type": "stream",
     "text": [
      "5\n",
      "8\n",
      "avg 216.0\n"
     ]
    }
   ],
   "source": [
    "lb=int(input())\n",
    "ub=int(input())\n",
    "def cubeavg(lb,ub):\n",
    "    s=0\n",
    "    count=0\n",
    "    for i in range(lb,ub):\n",
    "        if(i%2==0):\n",
    "            a=i**3\n",
    "            s=s+a\n",
    "            count=count+1\n",
    "            print(\"avg\",s/count)\n",
    "cubeavg(lb,ub)"
   ]
  },
  {
   "cell_type": "markdown",
   "metadata": {},
   "source": [
    "4.program to print all the sum of perfect numbers in a given range"
   ]
  },
  {
   "cell_type": "code",
   "execution_count": 8,
   "metadata": {},
   "outputs": [
    {
     "name": "stdout",
     "output_type": "stream",
     "text": [
      "1\n",
      "10\n",
      "perfect--> 6\n",
      "perfect--> 6\n",
      "perfect--> 6\n"
     ]
    }
   ],
   "source": [
    "def perfect(n):\n",
    "    s=0\n",
    "    for i in range(1,n):\n",
    "        if(n%i==0):\n",
    "            s=s+i\n",
    "        if(s==n):\n",
    "            print(\"perfect-->\",n)\n",
    "n=int(input())\n",
    "ub=int(input())\n",
    "for i in range(n,ub):\n",
    "    perfect(i)"
   ]
  },
  {
   "cell_type": "markdown",
   "metadata": {},
   "source": [
    "5.Function to generate N odd armstrong number"
   ]
  },
  {
   "cell_type": "code",
   "execution_count": 5,
   "metadata": {},
   "outputs": [
    {
     "name": "stdout",
     "output_type": "stream",
     "text": [
      "153\n",
      "armstrong--> 153\n",
      "odd\n"
     ]
    }
   ],
   "source": [
    "def armstrong(n):\n",
    "    s=0\n",
    "    m=n\n",
    "    while(n!=0):\n",
    "        a=n%10\n",
    "        s=s+a**3\n",
    "        n=n//10\n",
    "    if(s==m):\n",
    "        print(\"armstrong-->\",s)\n",
    "        if(s%2!=0):\n",
    "            print(\"odd\")\n",
    "n=int(input())\n",
    "armstrong(n)"
   ]
  },
  {
   "cell_type": "code",
   "execution_count": null,
   "metadata": {},
   "outputs": [],
   "source": []
  }
 ],
 "metadata": {
  "kernelspec": {
   "display_name": "Python 3",
   "language": "python",
   "name": "python3"
  },
  "language_info": {
   "codemirror_mode": {
    "name": "ipython",
    "version": 3
   },
   "file_extension": ".py",
   "mimetype": "text/x-python",
   "name": "python",
   "nbconvert_exporter": "python",
   "pygments_lexer": "ipython3",
   "version": "3.7.3"
  }
 },
 "nbformat": 4,
 "nbformat_minor": 2
}
