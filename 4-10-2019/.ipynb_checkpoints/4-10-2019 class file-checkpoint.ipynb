{
 "cells": [
  {
   "cell_type": "code",
   "execution_count": 1,
   "metadata": {},
   "outputs": [],
   "source": [
    "## File Modes\n",
    "# TELL\n",
    "#SEEK\n",
    "#w+=write and read"
   ]
  },
  {
   "cell_type": "code",
   "execution_count": 15,
   "metadata": {},
   "outputs": [],
   "source": [
    "#create a file=file_operations.txt\n",
    "filepath=\"file_operations.txt\"\n",
    "def file_operations(filepath):\n",
    "    with open(filepath,\"w\") as f: \n",
    "        f.write(\"gitbasics mstp level 2\\n\")\n",
    "        f.write(\"\\npython development program\\n\")\n",
    "        f.write(\"\\n program \\n\")\n",
    "        f.close()\n",
    "file_operations(filepath)"
   ]
  },
  {
   "cell_type": "code",
   "execution_count": 16,
   "metadata": {},
   "outputs": [
    {
     "name": "stdout",
     "output_type": "stream",
     "text": [
      "git\n",
      "3\n",
      "3\n"
     ]
    }
   ],
   "source": [
    "f=open(\"file_operations.txt\",\"r\")\n",
    "f1=f.read(3)\n",
    "print(f1)\n",
    "print(f.tell())\n",
    "f2=f.seek(3)\n",
    "print(f2)\n",
    "f.close()"
   ]
  },
  {
   "cell_type": "code",
   "execution_count": 20,
   "metadata": {},
   "outputs": [
    {
     "name": "stdout",
     "output_type": "stream",
     "text": [
      "gitbasics mstp level 2\n",
      "\n",
      "python development program\n",
      "\n",
      " program \n",
      "\n"
     ]
    },
    {
     "data": {
      "text/plain": [
       "67"
      ]
     },
     "execution_count": 20,
     "metadata": {},
     "output_type": "execute_result"
    }
   ],
   "source": [
    "k=open(\"file_operations.txt\",\"r\")\n",
    "print(k.read())\n",
    "k.tell()"
   ]
  },
  {
   "cell_type": "code",
   "execution_count": 21,
   "metadata": {},
   "outputs": [
    {
     "name": "stdout",
     "output_type": "stream",
     "text": [
      "gitbasics mstp level 2\n",
      "\n",
      "python development program\n",
      "\n",
      " program \n",
      "\n",
      "basics mstp level 2\n",
      "\n",
      "python development program\n",
      "\n",
      " program \n",
      "\n"
     ]
    }
   ],
   "source": [
    "k=open(\"file_operations.txt\",\"r\")\n",
    "print(k.read())\n",
    "k.seek(3)\n",
    "k.tell()\n",
    "print(k.read())"
   ]
  },
  {
   "cell_type": "code",
   "execution_count": 25,
   "metadata": {},
   "outputs": [
    {
     "name": "stdout",
     "output_type": "stream",
     "text": [
      "orld is good\n"
     ]
    }
   ],
   "source": [
    "filepath=\"file_operations.txt\"\n",
    "def writeread(filepath):\n",
    "    with open(filepath,\"w+\") as f: \n",
    "        f.write(\"world is good\")\n",
    "        f.seek(1)\n",
    "        f1=f.read()\n",
    "        print(f1)\n",
    "writeread(filepath)\n",
    "        "
   ]
  },
  {
   "cell_type": "code",
   "execution_count": 62,
   "metadata": {},
   "outputs": [
    {
     "name": "stdout",
     "output_type": "stream",
     "text": [
      "121\n",
      "palindrome\n"
     ]
    }
   ],
   "source": [
    "n=input()\n",
    "def palindrome(n):\n",
    "    r=n[::-1]\n",
    "    if(n==r):\n",
    "        print(\"palindrome\")\n",
    "    else:\n",
    "        print(\"not\")\n",
    "palindrome(n)"
   ]
  },
  {
   "cell_type": "code",
   "execution_count": null,
   "metadata": {},
   "outputs": [],
   "source": []
  }
 ],
 "metadata": {
  "kernelspec": {
   "display_name": "Python 3",
   "language": "python",
   "name": "python3"
  },
  "language_info": {
   "codemirror_mode": {
    "name": "ipython",
    "version": 3
   },
   "file_extension": ".py",
   "mimetype": "text/x-python",
   "name": "python",
   "nbconvert_exporter": "python",
   "pygments_lexer": "ipython3",
   "version": "3.7.3"
  }
 },
 "nbformat": 4,
 "nbformat_minor": 2
}
