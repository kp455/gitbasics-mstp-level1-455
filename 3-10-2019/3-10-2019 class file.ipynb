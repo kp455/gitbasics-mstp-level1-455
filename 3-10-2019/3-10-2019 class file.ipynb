{
 "cells": [
  {
   "cell_type": "markdown",
   "metadata": {},
   "source": [
    "# File Handling in Python"
   ]
  },
  {
   "cell_type": "markdown",
   "metadata": {},
   "source": [
    "1. read--r\n",
    "2. write--w\n",
    "3. append--a\n",
    "4. read&write--r+\n",
    "5. write&read--w+\n",
    "6. append&read--a+\n",
    "7. exclusive write--x"
   ]
  },
  {
   "cell_type": "code",
   "execution_count": 2,
   "metadata": {},
   "outputs": [],
   "source": [
    "#file opening\n",
    "#file=open(\"sample.txt\",\"mode\")"
   ]
  },
  {
   "cell_type": "code",
   "execution_count": 33,
   "metadata": {},
   "outputs": [],
   "source": [
    "# create a file and add some content\n",
    "f=open(\"data.txt\",\"w\")\n",
    "f.write(\"welcome python\")\n",
    "f.write(\"\\nhiii this is praveena\\n\")\n",
    "f.close()"
   ]
  },
  {
   "cell_type": "code",
   "execution_count": 34,
   "metadata": {},
   "outputs": [
    {
     "name": "stdout",
     "output_type": "stream",
     "text": [
      "welcome python\n",
      "hiii this is praveena\n",
      "\n"
     ]
    }
   ],
   "source": [
    "#print content of a file\n",
    "filedata=open(\"data.txt\",\"r\")\n",
    "f1=filedata.read()\n",
    "print(f1)\n",
    "filedata.close()"
   ]
  },
  {
   "cell_type": "code",
   "execution_count": 35,
   "metadata": {},
   "outputs": [
    {
     "name": "stdout",
     "output_type": "stream",
     "text": [
      "welcome python\n",
      "hiii this is praveena\n",
      "\n"
     ]
    }
   ],
   "source": [
    "#function to print data of a file\n",
    "def file(filedata):\n",
    "    filedata=open(\"data.txt\",\"r\")\n",
    "    f1=filedata.read()\n",
    "    print(f1)\n",
    "    filedata.close()\n",
    "file(filedata)\n",
    "    "
   ]
  },
  {
   "cell_type": "code",
   "execution_count": 36,
   "metadata": {},
   "outputs": [],
   "source": [
    "#function to write data to a file\n",
    "#data=\"apssdc mstp\"\n",
    "def write_content(filepath):\n",
    "    filepath=open(\"data.txt\",\"w\")\n",
    "    filepath.write(\"apssdc mstp\")\n",
    "    filepath.close()\n",
    "filepath=\"data.txt\"\n",
    "write_content(filepath)\n",
    "    "
   ]
  },
  {
   "cell_type": "code",
   "execution_count": 37,
   "metadata": {},
   "outputs": [],
   "source": [
    "#function to add a new content to a file\n",
    "def add(filepath):\n",
    "    filepath=open(\"data.txt\",\"a\")\n",
    "    filepath.write(\"\\nlevel 2\\n\")\n",
    "    filepath.close()\n",
    "filepath=\"data.txt\"\n",
    "add(filepath)\n",
    "    \n"
   ]
  },
  {
   "cell_type": "code",
   "execution_count": 38,
   "metadata": {},
   "outputs": [
    {
     "name": "stdout",
     "output_type": "stream",
     "text": [
      "apssdc mstp\n",
      "level 2\n",
      "\n"
     ]
    }
   ],
   "source": [
    "def read_filecontent(filepath):\n",
    "    filepath=open(\"data.txt\",\"r\")\n",
    "    f2=filepath.read()\n",
    "    filepath.close()\n",
    "    print(f2)\n",
    "filepath=\"data.txt\"\n",
    "read_filecontent(filepath)\n",
    "    \n",
    "    "
   ]
  },
  {
   "cell_type": "code",
   "execution_count": 39,
   "metadata": {},
   "outputs": [
    {
     "name": "stdout",
     "output_type": "stream",
     "text": [
      "apssdc mstp\n",
      "\n"
     ]
    }
   ],
   "source": [
    "f=open(\"data.txt\",\"r\")\n",
    "x=f.readline()\n",
    "print(x)"
   ]
  },
  {
   "cell_type": "code",
   "execution_count": 41,
   "metadata": {},
   "outputs": [
    {
     "name": "stdout",
     "output_type": "stream",
     "text": [
      "['apssdc mstp\\n', 'level 2\\n']\n"
     ]
    }
   ],
   "source": [
    "f=open(\"data.txt\",\"r\")\n",
    "z=f.readlines()\n",
    "print(z)"
   ]
  },
  {
   "cell_type": "code",
   "execution_count": 1,
   "metadata": {},
   "outputs": [
    {
     "name": "stdout",
     "output_type": "stream",
     "text": [
      "apssdc mstp\n",
      " level 2\n",
      " "
     ]
    }
   ],
   "source": [
    "## Acessing all content line by line\n",
    "def get_elements(file):\n",
    "        file=open(\"data.txt\",\"r\")   #with open(\"data.txt\",\"r\") as z:\n",
    "        z=file.readlines()\n",
    "        for i in z:\n",
    "            print(i,end=\" \")\n",
    "file=\"data.txt\"\n",
    "get_elements(file)\n",
    "    \n",
    "    \n"
   ]
  },
  {
   "cell_type": "code",
   "execution_count": 7,
   "metadata": {},
   "outputs": [
    {
     "name": "stdout",
     "output_type": "stream",
     "text": [
      "2\n"
     ]
    }
   ],
   "source": [
    "#lines count=\n",
    "#charcters count=\n",
    "#words count=\n",
    "\n",
    "def linecount(z):\n",
    "    count=0\n",
    "    with open(\"data.txt\",\"r\") as z:\n",
    "        file=z.readlines()\n",
    "        for i in range(len(file)):\n",
    "            count=count+1\n",
    "        print(count)\n",
    "z=\"data.txt\"\n",
    "linecount(z)\n",
    "            "
   ]
  },
  {
   "cell_type": "code",
   "execution_count": 4,
   "metadata": {},
   "outputs": [
    {
     "name": "stdout",
     "output_type": "stream",
     "text": [
      "20\n"
     ]
    }
   ],
   "source": [
    "#CHARACTERS COUNT\n",
    "def charcount(z):\n",
    "    count=0\n",
    "    with open(\"data.txt\",\"r\") as z:\n",
    "        file=z.read()\n",
    "        for i in range(len(file)):\n",
    "            count=count+1\n",
    "        print(count)\n",
    "z=\"data.txt\"\n",
    "charcount(z)"
   ]
  },
  {
   "cell_type": "code",
   "execution_count": 8,
   "metadata": {},
   "outputs": [
    {
     "name": "stdout",
     "output_type": "stream",
     "text": [
      "4\n"
     ]
    }
   ],
   "source": [
    "#words count\n",
    "def wordscount(z):\n",
    "    count=0\n",
    "    with open(\"data.txt\",\"r\") as z:\n",
    "        file=z.read()\n",
    "        k=file.split()\n",
    "        print(len(k))\n",
    "z=\"data.txt\"\n",
    "wordscount(z)\n",
    "    \n",
    "    "
   ]
  },
  {
   "cell_type": "code",
   "execution_count": null,
   "metadata": {},
   "outputs": [],
   "source": []
  }
 ],
 "metadata": {
  "kernelspec": {
   "display_name": "Python 3",
   "language": "python",
   "name": "python3"
  },
  "language_info": {
   "codemirror_mode": {
    "name": "ipython",
    "version": 3
   },
   "file_extension": ".py",
   "mimetype": "text/x-python",
   "name": "python",
   "nbconvert_exporter": "python",
   "pygments_lexer": "ipython3",
   "version": "3.7.3"
  }
 },
 "nbformat": 4,
 "nbformat_minor": 2
}
