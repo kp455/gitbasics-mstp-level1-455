{
 "cells": [
  {
   "cell_type": "code",
   "execution_count": 94,
   "metadata": {},
   "outputs": [
    {
     "data": {
      "text/html": [
       "<div>\n",
       "<style scoped>\n",
       "    .dataframe tbody tr th:only-of-type {\n",
       "        vertical-align: middle;\n",
       "    }\n",
       "\n",
       "    .dataframe tbody tr th {\n",
       "        vertical-align: top;\n",
       "    }\n",
       "\n",
       "    .dataframe thead th {\n",
       "        text-align: right;\n",
       "    }\n",
       "</style>\n",
       "<table border=\"1\" class=\"dataframe\">\n",
       "  <thead>\n",
       "    <tr style=\"text-align: right;\">\n",
       "      <th></th>\n",
       "      <th>GEOID</th>\n",
       "      <th>State</th>\n",
       "      <th>2005</th>\n",
       "      <th>2006</th>\n",
       "      <th>2007</th>\n",
       "      <th>2008</th>\n",
       "      <th>2009</th>\n",
       "      <th>2010</th>\n",
       "      <th>2011</th>\n",
       "      <th>2012</th>\n",
       "      <th>2013</th>\n",
       "    </tr>\n",
       "  </thead>\n",
       "  <tbody>\n",
       "    <tr>\n",
       "      <th>0</th>\n",
       "      <td>04000US01</td>\n",
       "      <td>Alabama</td>\n",
       "      <td>37150</td>\n",
       "      <td>37952</td>\n",
       "      <td>42212</td>\n",
       "      <td>44476</td>\n",
       "      <td>39980</td>\n",
       "      <td>40933</td>\n",
       "      <td>42590</td>\n",
       "      <td>43464</td>\n",
       "      <td>41381</td>\n",
       "    </tr>\n",
       "    <tr>\n",
       "      <th>1</th>\n",
       "      <td>04000US02</td>\n",
       "      <td>Alaska</td>\n",
       "      <td>55891</td>\n",
       "      <td>56418</td>\n",
       "      <td>62993</td>\n",
       "      <td>63989</td>\n",
       "      <td>61604</td>\n",
       "      <td>57848</td>\n",
       "      <td>57431</td>\n",
       "      <td>63648</td>\n",
       "      <td>61137</td>\n",
       "    </tr>\n",
       "    <tr>\n",
       "      <th>2</th>\n",
       "      <td>04000US04</td>\n",
       "      <td>Arizona</td>\n",
       "      <td>45245</td>\n",
       "      <td>46657</td>\n",
       "      <td>62993</td>\n",
       "      <td>46914</td>\n",
       "      <td>45739</td>\n",
       "      <td>46896</td>\n",
       "      <td>48621</td>\n",
       "      <td>47044</td>\n",
       "      <td>50602</td>\n",
       "    </tr>\n",
       "    <tr>\n",
       "      <th>3</th>\n",
       "      <td>04000US05</td>\n",
       "      <td>Arkansas</td>\n",
       "      <td>36658</td>\n",
       "      <td>37057</td>\n",
       "      <td>40795</td>\n",
       "      <td>39586</td>\n",
       "      <td>36538</td>\n",
       "      <td>38587</td>\n",
       "      <td>41302</td>\n",
       "      <td>39018</td>\n",
       "      <td>39919</td>\n",
       "    </tr>\n",
       "    <tr>\n",
       "      <th>4</th>\n",
       "      <td>04000US06</td>\n",
       "      <td>California</td>\n",
       "      <td>51755</td>\n",
       "      <td>55319</td>\n",
       "      <td>55734</td>\n",
       "      <td>57014</td>\n",
       "      <td>56134</td>\n",
       "      <td>54283</td>\n",
       "      <td>53367</td>\n",
       "      <td>57020</td>\n",
       "      <td>57528</td>\n",
       "    </tr>\n",
       "  </tbody>\n",
       "</table>\n",
       "</div>"
      ],
      "text/plain": [
       "       GEOID       State   2005   2006   2007   2008   2009   2010   2011  \\\n",
       "0  04000US01     Alabama  37150  37952  42212  44476  39980  40933  42590   \n",
       "1  04000US02      Alaska  55891  56418  62993  63989  61604  57848  57431   \n",
       "2  04000US04     Arizona  45245  46657  62993  46914  45739  46896  48621   \n",
       "3  04000US05    Arkansas  36658  37057  40795  39586  36538  38587  41302   \n",
       "4  04000US06  California  51755  55319  55734  57014  56134  54283  53367   \n",
       "\n",
       "    2012   2013  \n",
       "0  43464  41381  \n",
       "1  63648  61137  \n",
       "2  47044  50602  \n",
       "3  39018  39919  \n",
       "4  57020  57528  "
      ]
     },
     "execution_count": 94,
     "metadata": {},
     "output_type": "execute_result"
    }
   ],
   "source": [
    "import pandas as pd\n",
    "df=pd.read_csv(\"income.csv\")\n",
    "d=df.copy()\n",
    "d"
   ]
  },
  {
   "cell_type": "code",
   "execution_count": 86,
   "metadata": {},
   "outputs": [
    {
     "data": {
      "text/plain": [
       "Index(['GEOID', 'State', '2005', '2006', '2007', '2008', '2009', '2010',\n",
       "       '2011', '2012', '2013'],\n",
       "      dtype='object')"
      ]
     },
     "execution_count": 86,
     "metadata": {},
     "output_type": "execute_result"
    }
   ],
   "source": [
    "df.columns"
   ]
  },
  {
   "cell_type": "code",
   "execution_count": 6,
   "metadata": {},
   "outputs": [
    {
     "data": {
      "text/html": [
       "<div>\n",
       "<style scoped>\n",
       "    .dataframe tbody tr th:only-of-type {\n",
       "        vertical-align: middle;\n",
       "    }\n",
       "\n",
       "    .dataframe tbody tr th {\n",
       "        vertical-align: top;\n",
       "    }\n",
       "\n",
       "    .dataframe thead th {\n",
       "        text-align: right;\n",
       "    }\n",
       "</style>\n",
       "<table border=\"1\" class=\"dataframe\">\n",
       "  <thead>\n",
       "    <tr style=\"text-align: right;\">\n",
       "      <th></th>\n",
       "      <th>GEOID</th>\n",
       "      <th>State</th>\n",
       "      <th>2005</th>\n",
       "      <th>2006</th>\n",
       "      <th>2007</th>\n",
       "      <th>2008</th>\n",
       "      <th>2009</th>\n",
       "      <th>2010</th>\n",
       "      <th>2011</th>\n",
       "      <th>2012</th>\n",
       "      <th>2013</th>\n",
       "    </tr>\n",
       "  </thead>\n",
       "  <tbody>\n",
       "    <tr>\n",
       "      <th>0</th>\n",
       "      <td>04000US01</td>\n",
       "      <td>Alabama</td>\n",
       "      <td>37150</td>\n",
       "      <td>37952</td>\n",
       "      <td>42212</td>\n",
       "      <td>44476</td>\n",
       "      <td>39980</td>\n",
       "      <td>40933</td>\n",
       "      <td>42590</td>\n",
       "      <td>43464</td>\n",
       "      <td>41381</td>\n",
       "    </tr>\n",
       "    <tr>\n",
       "      <th>1</th>\n",
       "      <td>04000US02</td>\n",
       "      <td>Alaska</td>\n",
       "      <td>55891</td>\n",
       "      <td>56418</td>\n",
       "      <td>62993</td>\n",
       "      <td>63989</td>\n",
       "      <td>61604</td>\n",
       "      <td>57848</td>\n",
       "      <td>57431</td>\n",
       "      <td>63648</td>\n",
       "      <td>61137</td>\n",
       "    </tr>\n",
       "    <tr>\n",
       "      <th>2</th>\n",
       "      <td>04000US04</td>\n",
       "      <td>Arizona</td>\n",
       "      <td>45245</td>\n",
       "      <td>46657</td>\n",
       "      <td>62993</td>\n",
       "      <td>46914</td>\n",
       "      <td>45739</td>\n",
       "      <td>46896</td>\n",
       "      <td>48621</td>\n",
       "      <td>47044</td>\n",
       "      <td>50602</td>\n",
       "    </tr>\n",
       "    <tr>\n",
       "      <th>3</th>\n",
       "      <td>04000US05</td>\n",
       "      <td>Arkansas</td>\n",
       "      <td>36658</td>\n",
       "      <td>37057</td>\n",
       "      <td>40795</td>\n",
       "      <td>39586</td>\n",
       "      <td>36538</td>\n",
       "      <td>38587</td>\n",
       "      <td>41302</td>\n",
       "      <td>39018</td>\n",
       "      <td>39919</td>\n",
       "    </tr>\n",
       "    <tr>\n",
       "      <th>4</th>\n",
       "      <td>04000US06</td>\n",
       "      <td>California</td>\n",
       "      <td>51755</td>\n",
       "      <td>55319</td>\n",
       "      <td>55734</td>\n",
       "      <td>57014</td>\n",
       "      <td>56134</td>\n",
       "      <td>54283</td>\n",
       "      <td>53367</td>\n",
       "      <td>57020</td>\n",
       "      <td>57528</td>\n",
       "    </tr>\n",
       "  </tbody>\n",
       "</table>\n",
       "</div>"
      ],
      "text/plain": [
       "       GEOID       State   2005   2006   2007   2008   2009   2010   2011  \\\n",
       "0  04000US01     Alabama  37150  37952  42212  44476  39980  40933  42590   \n",
       "1  04000US02      Alaska  55891  56418  62993  63989  61604  57848  57431   \n",
       "2  04000US04     Arizona  45245  46657  62993  46914  45739  46896  48621   \n",
       "3  04000US05    Arkansas  36658  37057  40795  39586  36538  38587  41302   \n",
       "4  04000US06  California  51755  55319  55734  57014  56134  54283  53367   \n",
       "\n",
       "    2012   2013  \n",
       "0  43464  41381  \n",
       "1  63648  61137  \n",
       "2  47044  50602  \n",
       "3  39018  39919  \n",
       "4  57020  57528  "
      ]
     },
     "execution_count": 6,
     "metadata": {},
     "output_type": "execute_result"
    }
   ],
   "source": [
    "df.loc[0:]"
   ]
  },
  {
   "cell_type": "code",
   "execution_count": 7,
   "metadata": {},
   "outputs": [
    {
     "data": {
      "text/plain": [
       "0    40933\n",
       "1    57848\n",
       "2    46896\n",
       "3    38587\n",
       "4    54283\n",
       "Name: 2010, dtype: int64"
      ]
     },
     "execution_count": 7,
     "metadata": {},
     "output_type": "execute_result"
    }
   ],
   "source": [
    "df[\"2010\"]"
   ]
  },
  {
   "cell_type": "code",
   "execution_count": 9,
   "metadata": {},
   "outputs": [
    {
     "name": "stdout",
     "output_type": "stream",
     "text": [
      "54283\n"
     ]
    }
   ],
   "source": [
    "s=0                                                          #sum of particular column\n",
    "for i in df[\"2010\"]:\n",
    "    s=s+i\n",
    "print(i)                                        "
   ]
  },
  {
   "cell_type": "code",
   "execution_count": 15,
   "metadata": {},
   "outputs": [
    {
     "name": "stdout",
     "output_type": "stream",
     "text": [
      "540959\n"
     ]
    }
   ],
   "source": [
    "# to find the sum of row\n",
    "#df.iloc[1,2:]\n",
    "s=0\n",
    "for i in df.iloc[1,2:]:\n",
    "    s=s+i\n",
    "print(s)"
   ]
  },
  {
   "cell_type": "code",
   "execution_count": 16,
   "metadata": {},
   "outputs": [
    {
     "data": {
      "text/plain": [
       "238547"
      ]
     },
     "execution_count": 16,
     "metadata": {},
     "output_type": "execute_result"
    }
   ],
   "source": [
    "df[\"2010\"].sum()                          "
   ]
  },
  {
   "cell_type": "code",
   "execution_count": 21,
   "metadata": {},
   "outputs": [
    {
     "data": {
      "text/plain": [
       "498154"
      ]
     },
     "execution_count": 21,
     "metadata": {},
     "output_type": "execute_result"
    }
   ],
   "source": [
    "#4th row and all columns sum\n",
    "df.iloc[4,2:].sum()"
   ]
  },
  {
   "cell_type": "code",
   "execution_count": 26,
   "metadata": {},
   "outputs": [
    {
     "data": {
      "text/plain": [
       "976808"
      ]
     },
     "execution_count": 26,
     "metadata": {},
     "output_type": "execute_result"
    }
   ],
   "source": [
    "#sum of 2005 to 2008 colums\n",
    "k=df.iloc[:,2:6].sum()\n",
    "k.sum()"
   ]
  },
  {
   "cell_type": "code",
   "execution_count": 33,
   "metadata": {},
   "outputs": [
    {
     "data": {
      "text/plain": [
       "2199422"
      ]
     },
     "execution_count": 33,
     "metadata": {},
     "output_type": "execute_result"
    }
   ],
   "source": [
    "s=df.iloc[:,2:].sum()\n",
    "s.sum()"
   ]
  },
  {
   "cell_type": "code",
   "execution_count": 35,
   "metadata": {},
   "outputs": [
    {
     "data": {
      "text/plain": [
       "GEOID    04000US0104000US0204000US0404000US0504000US06\n",
       "State           AlabamaAlaskaArizonaArkansasCalifornia\n",
       "2005                                            226699\n",
       "2006                                            233403\n",
       "2007                                            264727\n",
       "2008                                            251979\n",
       "2009                                            239995\n",
       "2010                                            238547\n",
       "2011                                            243311\n",
       "2012                                            250194\n",
       "2013                                            250567\n",
       "dtype: object"
      ]
     },
     "execution_count": 35,
     "metadata": {},
     "output_type": "execute_result"
    }
   ],
   "source": [
    "df.sum()                #to find the total sum of individual columns"
   ]
  },
  {
   "cell_type": "code",
   "execution_count": 36,
   "metadata": {},
   "outputs": [
    {
     "data": {
      "text/plain": [
       "0    370138\n",
       "1    540959\n",
       "2    440711\n",
       "3    349460\n",
       "4    498154\n",
       "dtype: int64"
      ]
     },
     "execution_count": 36,
     "metadata": {},
     "output_type": "execute_result"
    }
   ],
   "source": [
    "df.sum(1)                 #to find the total sum of individual rows"
   ]
  },
  {
   "cell_type": "code",
   "execution_count": 45,
   "metadata": {},
   "outputs": [
    {
     "data": {
      "text/plain": [
       "3892897880436685324"
      ]
     },
     "execution_count": 45,
     "metadata": {},
     "output_type": "execute_result"
    }
   ],
   "source": [
    "#prod()to find the product of 1 to 2 rows upto 2008 columns\n",
    "k=df.iloc[1:3,2:6].prod()\n",
    "k.prod()"
   ]
  },
  {
   "cell_type": "code",
   "execution_count": 55,
   "metadata": {},
   "outputs": [
    {
     "data": {
      "text/plain": [
       "48662.2"
      ]
     },
     "execution_count": 55,
     "metadata": {},
     "output_type": "execute_result"
    }
   ],
   "source": [
    "#mean() to find the average\n",
    "#find the avg of 2011 column\n",
    "\n",
    "\n",
    "df[\"2011\"].mean()"
   ]
  },
  {
   "cell_type": "code",
   "execution_count": 59,
   "metadata": {},
   "outputs": [
    {
     "data": {
      "text/plain": [
       "48967.88888888889"
      ]
     },
     "execution_count": 59,
     "metadata": {},
     "output_type": "execute_result"
    }
   ],
   "source": [
    "#find the avg of 2nd row\n",
    "df.iloc[2,2:].mean()"
   ]
  },
  {
   "cell_type": "code",
   "execution_count": 60,
   "metadata": {},
   "outputs": [
    {
     "data": {
      "text/plain": [
       "48621.0"
      ]
     },
     "execution_count": 60,
     "metadata": {},
     "output_type": "execute_result"
    }
   ],
   "source": [
    "# median()   \n",
    "#find the median of 2011 column\n",
    "df[\"2011\"].median()"
   ]
  },
  {
   "cell_type": "code",
   "execution_count": 61,
   "metadata": {},
   "outputs": [
    {
     "data": {
      "text/plain": [
       "46914.0"
      ]
     },
     "execution_count": 61,
     "metadata": {},
     "output_type": "execute_result"
    }
   ],
   "source": [
    "#find the median of 2nd row\n",
    "df.iloc[2,2:].median()"
   ]
  },
  {
   "cell_type": "markdown",
   "metadata": {},
   "source": [
    "### Combined Average Income of all states from 2005 to 2013\n",
    "\n"
   ]
  },
  {
   "cell_type": "code",
   "execution_count": 110,
   "metadata": {},
   "outputs": [
    {
     "data": {
      "text/plain": [
       "48876.044444444444"
      ]
     },
     "execution_count": 110,
     "metadata": {},
     "output_type": "execute_result"
    }
   ],
   "source": [
    "df.iloc[:,2:].mean().mean()   #column wise avg\n",
    "#df.iloc[:,2:].mean(1)-------> row wise avg"
   ]
  },
  {
   "cell_type": "code",
   "execution_count": 115,
   "metadata": {},
   "outputs": [
    {
     "data": {
      "text/html": [
       "<div>\n",
       "<style scoped>\n",
       "    .dataframe tbody tr th:only-of-type {\n",
       "        vertical-align: middle;\n",
       "    }\n",
       "\n",
       "    .dataframe tbody tr th {\n",
       "        vertical-align: top;\n",
       "    }\n",
       "\n",
       "    .dataframe thead th {\n",
       "        text-align: right;\n",
       "    }\n",
       "</style>\n",
       "<table border=\"1\" class=\"dataframe\">\n",
       "  <thead>\n",
       "    <tr style=\"text-align: right;\">\n",
       "      <th></th>\n",
       "      <th>GEOID</th>\n",
       "      <th>2005</th>\n",
       "      <th>2006</th>\n",
       "      <th>2007</th>\n",
       "      <th>2008</th>\n",
       "      <th>2009</th>\n",
       "      <th>2010</th>\n",
       "      <th>2011</th>\n",
       "      <th>2012</th>\n",
       "      <th>2013</th>\n",
       "    </tr>\n",
       "    <tr>\n",
       "      <th>State</th>\n",
       "      <th></th>\n",
       "      <th></th>\n",
       "      <th></th>\n",
       "      <th></th>\n",
       "      <th></th>\n",
       "      <th></th>\n",
       "      <th></th>\n",
       "      <th></th>\n",
       "      <th></th>\n",
       "      <th></th>\n",
       "    </tr>\n",
       "  </thead>\n",
       "  <tbody>\n",
       "    <tr>\n",
       "      <th>Alabama</th>\n",
       "      <td>04000US01</td>\n",
       "      <td>37150</td>\n",
       "      <td>37952</td>\n",
       "      <td>42212</td>\n",
       "      <td>44476</td>\n",
       "      <td>39980</td>\n",
       "      <td>40933</td>\n",
       "      <td>42590</td>\n",
       "      <td>43464</td>\n",
       "      <td>41381</td>\n",
       "    </tr>\n",
       "    <tr>\n",
       "      <th>Alaska</th>\n",
       "      <td>04000US02</td>\n",
       "      <td>55891</td>\n",
       "      <td>56418</td>\n",
       "      <td>62993</td>\n",
       "      <td>63989</td>\n",
       "      <td>61604</td>\n",
       "      <td>57848</td>\n",
       "      <td>57431</td>\n",
       "      <td>63648</td>\n",
       "      <td>61137</td>\n",
       "    </tr>\n",
       "    <tr>\n",
       "      <th>Arizona</th>\n",
       "      <td>04000US04</td>\n",
       "      <td>45245</td>\n",
       "      <td>46657</td>\n",
       "      <td>62993</td>\n",
       "      <td>46914</td>\n",
       "      <td>45739</td>\n",
       "      <td>46896</td>\n",
       "      <td>48621</td>\n",
       "      <td>47044</td>\n",
       "      <td>50602</td>\n",
       "    </tr>\n",
       "    <tr>\n",
       "      <th>Arkansas</th>\n",
       "      <td>04000US05</td>\n",
       "      <td>36658</td>\n",
       "      <td>37057</td>\n",
       "      <td>40795</td>\n",
       "      <td>39586</td>\n",
       "      <td>36538</td>\n",
       "      <td>38587</td>\n",
       "      <td>41302</td>\n",
       "      <td>39018</td>\n",
       "      <td>39919</td>\n",
       "    </tr>\n",
       "    <tr>\n",
       "      <th>California</th>\n",
       "      <td>04000US06</td>\n",
       "      <td>51755</td>\n",
       "      <td>55319</td>\n",
       "      <td>55734</td>\n",
       "      <td>57014</td>\n",
       "      <td>56134</td>\n",
       "      <td>54283</td>\n",
       "      <td>53367</td>\n",
       "      <td>57020</td>\n",
       "      <td>57528</td>\n",
       "    </tr>\n",
       "  </tbody>\n",
       "</table>\n",
       "</div>"
      ],
      "text/plain": [
       "                GEOID   2005   2006   2007   2008   2009   2010   2011   2012  \\\n",
       "State                                                                           \n",
       "Alabama     04000US01  37150  37952  42212  44476  39980  40933  42590  43464   \n",
       "Alaska      04000US02  55891  56418  62993  63989  61604  57848  57431  63648   \n",
       "Arizona     04000US04  45245  46657  62993  46914  45739  46896  48621  47044   \n",
       "Arkansas    04000US05  36658  37057  40795  39586  36538  38587  41302  39018   \n",
       "California  04000US06  51755  55319  55734  57014  56134  54283  53367  57020   \n",
       "\n",
       "             2013  \n",
       "State              \n",
       "Alabama     41381  \n",
       "Alaska      61137  \n",
       "Arizona     50602  \n",
       "Arkansas    39919  \n",
       "California  57528  "
      ]
     },
     "execution_count": 115,
     "metadata": {},
     "output_type": "execute_result"
    }
   ],
   "source": [
    "import pandas as pd\n",
    "d=pd.read_csv(\"income.csv\",index_col=\"State\")\n",
    "#d.index=d[\"State\"]\n",
    "d"
   ]
  },
  {
   "cell_type": "markdown",
   "metadata": {},
   "source": [
    "### State with highest average income in the last three years"
   ]
  },
  {
   "cell_type": "code",
   "execution_count": 118,
   "metadata": {},
   "outputs": [
    {
     "data": {
      "text/html": [
       "<div>\n",
       "<style scoped>\n",
       "    .dataframe tbody tr th:only-of-type {\n",
       "        vertical-align: middle;\n",
       "    }\n",
       "\n",
       "    .dataframe tbody tr th {\n",
       "        vertical-align: top;\n",
       "    }\n",
       "\n",
       "    .dataframe thead th {\n",
       "        text-align: right;\n",
       "    }\n",
       "</style>\n",
       "<table border=\"1\" class=\"dataframe\">\n",
       "  <thead>\n",
       "    <tr style=\"text-align: right;\">\n",
       "      <th></th>\n",
       "      <th>GEOID</th>\n",
       "      <th>2005</th>\n",
       "      <th>2006</th>\n",
       "      <th>2007</th>\n",
       "      <th>2008</th>\n",
       "      <th>2009</th>\n",
       "      <th>2010</th>\n",
       "      <th>2011</th>\n",
       "      <th>2012</th>\n",
       "      <th>2013</th>\n",
       "      <th>last three years avg</th>\n",
       "    </tr>\n",
       "    <tr>\n",
       "      <th>State</th>\n",
       "      <th></th>\n",
       "      <th></th>\n",
       "      <th></th>\n",
       "      <th></th>\n",
       "      <th></th>\n",
       "      <th></th>\n",
       "      <th></th>\n",
       "      <th></th>\n",
       "      <th></th>\n",
       "      <th></th>\n",
       "      <th></th>\n",
       "    </tr>\n",
       "  </thead>\n",
       "  <tbody>\n",
       "    <tr>\n",
       "      <th>Alabama</th>\n",
       "      <td>04000US01</td>\n",
       "      <td>37150</td>\n",
       "      <td>37952</td>\n",
       "      <td>42212</td>\n",
       "      <td>44476</td>\n",
       "      <td>39980</td>\n",
       "      <td>40933</td>\n",
       "      <td>42590</td>\n",
       "      <td>43464</td>\n",
       "      <td>41381</td>\n",
       "      <td>42428.703704</td>\n",
       "    </tr>\n",
       "    <tr>\n",
       "      <th>Alaska</th>\n",
       "      <td>04000US02</td>\n",
       "      <td>55891</td>\n",
       "      <td>56418</td>\n",
       "      <td>62993</td>\n",
       "      <td>63989</td>\n",
       "      <td>61604</td>\n",
       "      <td>57848</td>\n",
       "      <td>57431</td>\n",
       "      <td>63648</td>\n",
       "      <td>61137</td>\n",
       "      <td>62208.740741</td>\n",
       "    </tr>\n",
       "    <tr>\n",
       "      <th>Arizona</th>\n",
       "      <td>04000US04</td>\n",
       "      <td>45245</td>\n",
       "      <td>46657</td>\n",
       "      <td>62993</td>\n",
       "      <td>46914</td>\n",
       "      <td>45739</td>\n",
       "      <td>46896</td>\n",
       "      <td>48621</td>\n",
       "      <td>47044</td>\n",
       "      <td>50602</td>\n",
       "      <td>48815.518519</td>\n",
       "    </tr>\n",
       "    <tr>\n",
       "      <th>Arkansas</th>\n",
       "      <td>04000US05</td>\n",
       "      <td>36658</td>\n",
       "      <td>37057</td>\n",
       "      <td>40795</td>\n",
       "      <td>39586</td>\n",
       "      <td>36538</td>\n",
       "      <td>38587</td>\n",
       "      <td>41302</td>\n",
       "      <td>39018</td>\n",
       "      <td>39919</td>\n",
       "      <td>39536.407407</td>\n",
       "    </tr>\n",
       "    <tr>\n",
       "      <th>California</th>\n",
       "      <td>04000US06</td>\n",
       "      <td>51755</td>\n",
       "      <td>55319</td>\n",
       "      <td>55734</td>\n",
       "      <td>57014</td>\n",
       "      <td>56134</td>\n",
       "      <td>54283</td>\n",
       "      <td>53367</td>\n",
       "      <td>57020</td>\n",
       "      <td>57528</td>\n",
       "      <td>57129.296296</td>\n",
       "    </tr>\n",
       "  </tbody>\n",
       "</table>\n",
       "</div>"
      ],
      "text/plain": [
       "                GEOID   2005   2006   2007   2008   2009   2010   2011   2012  \\\n",
       "State                                                                           \n",
       "Alabama     04000US01  37150  37952  42212  44476  39980  40933  42590  43464   \n",
       "Alaska      04000US02  55891  56418  62993  63989  61604  57848  57431  63648   \n",
       "Arizona     04000US04  45245  46657  62993  46914  45739  46896  48621  47044   \n",
       "Arkansas    04000US05  36658  37057  40795  39586  36538  38587  41302  39018   \n",
       "California  04000US06  51755  55319  55734  57014  56134  54283  53367  57020   \n",
       "\n",
       "             2013  last three years avg  \n",
       "State                                    \n",
       "Alabama     41381          42428.703704  \n",
       "Alaska      61137          62208.740741  \n",
       "Arizona     50602          48815.518519  \n",
       "Arkansas    39919          39536.407407  \n",
       "California  57528          57129.296296  "
      ]
     },
     "execution_count": 118,
     "metadata": {},
     "output_type": "execute_result"
    }
   ],
   "source": [
    "d[\"last three years avg\"]=d.iloc[:,-3:].mean(1)       \n",
    "d                                                                # state--->row wise "
   ]
  },
  {
   "cell_type": "code",
   "execution_count": 121,
   "metadata": {},
   "outputs": [
    {
     "data": {
      "text/plain": [
       "State\n",
       "Alabama       False\n",
       "Alaska         True\n",
       "Arizona       False\n",
       "Arkansas      False\n",
       "California    False\n",
       "Name: last three years avg, dtype: bool"
      ]
     },
     "execution_count": 121,
     "metadata": {},
     "output_type": "execute_result"
    }
   ],
   "source": [
    "d[\"last three years avg\"]==max(d[\"last three years avg\"])             #boolean masking"
   ]
  },
  {
   "cell_type": "code",
   "execution_count": 122,
   "metadata": {},
   "outputs": [
    {
     "data": {
      "text/plain": [
       "'Alaska'"
      ]
     },
     "execution_count": 122,
     "metadata": {},
     "output_type": "execute_result"
    }
   ],
   "source": [
    "d[d[\"last three years avg\"]==max(d[\"last three years avg\"])].index[0]"
   ]
  },
  {
   "cell_type": "markdown",
   "metadata": {},
   "source": [
    "###  State with lowest average income from 2007 to 2010(inclusive)"
   ]
  },
  {
   "cell_type": "code",
   "execution_count": 125,
   "metadata": {},
   "outputs": [
    {
     "data": {
      "text/plain": [
       "'Arkansas'"
      ]
     },
     "execution_count": 125,
     "metadata": {},
     "output_type": "execute_result"
    }
   ],
   "source": [
    "d.iloc[:,3:7].mean(1).idxmin()                 #another form of boolean masking"
   ]
  },
  {
   "cell_type": "markdown",
   "metadata": {},
   "source": [
    "### Print the list of all states in the same line with average income less than California"
   ]
  },
  {
   "cell_type": "code",
   "execution_count": 139,
   "metadata": {},
   "outputs": [
    {
     "data": {
      "text/plain": [
       "State\n",
       "Alabama       41712.967078\n",
       "Alaska        60808.526749\n",
       "Arizona       49364.613169\n",
       "Arkansas      39148.711934\n",
       "California    55947.588477\n",
       "dtype: float64"
      ]
     },
     "execution_count": 139,
     "metadata": {},
     "output_type": "execute_result"
    }
   ],
   "source": [
    "a=d.iloc[:,2:].mean(1)\n",
    "a"
   ]
  },
  {
   "cell_type": "code",
   "execution_count": 142,
   "metadata": {},
   "outputs": [
    {
     "data": {
      "text/plain": [
       "55947.588477366255"
      ]
     },
     "execution_count": 142,
     "metadata": {},
     "output_type": "execute_result"
    }
   ],
   "source": [
    "calavg=d.iloc[-1,2:].mean()\n",
    "calavg"
   ]
  },
  {
   "cell_type": "code",
   "execution_count": 143,
   "metadata": {},
   "outputs": [
    {
     "data": {
      "text/plain": [
       "State\n",
       "Alabama        True\n",
       "Alaska        False\n",
       "Arizona        True\n",
       "Arkansas       True\n",
       "California    False\n",
       "dtype: bool"
      ]
     },
     "execution_count": 143,
     "metadata": {},
     "output_type": "execute_result"
    }
   ],
   "source": [
    "d.iloc[:,2:].mean(1)<calavg"
   ]
  },
  {
   "cell_type": "code",
   "execution_count": 145,
   "metadata": {},
   "outputs": [
    {
     "data": {
      "text/plain": [
       "['Alabama', 'Arizona', 'Arkansas']"
      ]
     },
     "execution_count": 145,
     "metadata": {},
     "output_type": "execute_result"
    }
   ],
   "source": [
    "list(d[d.iloc[:,2:].mean(1)<calavg].index)"
   ]
  },
  {
   "cell_type": "markdown",
   "metadata": {},
   "source": [
    "###  Print the names of states based on descending order of income in the year 2009"
   ]
  },
  {
   "cell_type": "code",
   "execution_count": 152,
   "metadata": {},
   "outputs": [
    {
     "data": {
      "text/plain": [
       "State\n",
       "Alabama       40933\n",
       "Alaska        57848\n",
       "Arizona       46896\n",
       "Arkansas      38587\n",
       "California    54283\n",
       "Name: 2010, dtype: int64"
      ]
     },
     "execution_count": 152,
     "metadata": {},
     "output_type": "execute_result"
    }
   ],
   "source": [
    "a=d.iloc[:,6]\n",
    "a"
   ]
  },
  {
   "cell_type": "code",
   "execution_count": 153,
   "metadata": {},
   "outputs": [
    {
     "data": {
      "text/plain": [
       "State\n",
       "Alaska        57848\n",
       "California    54283\n",
       "Arizona       46896\n",
       "Alabama       40933\n",
       "Arkansas      38587\n",
       "Name: 2010, dtype: int64"
      ]
     },
     "execution_count": 153,
     "metadata": {},
     "output_type": "execute_result"
    }
   ],
   "source": [
    "b=a.sort_values(ascending=False)\n",
    "b"
   ]
  },
  {
   "cell_type": "code",
   "execution_count": 155,
   "metadata": {},
   "outputs": [
    {
     "data": {
      "text/plain": [
       "['Alaska', 'California', 'Arizona', 'Alabama', 'Arkansas']"
      ]
     },
     "execution_count": 155,
     "metadata": {},
     "output_type": "execute_result"
    }
   ],
   "source": [
    "list(b.index)"
   ]
  },
  {
   "cell_type": "markdown",
   "metadata": {},
   "source": [
    "### State with the lowest recorded income from 2005 to 2013'''"
   ]
  },
  {
   "cell_type": "code",
   "execution_count": 163,
   "metadata": {},
   "outputs": [
    {
     "data": {
      "text/plain": [
       "2005                    Arkansas\n",
       "2006                    Arkansas\n",
       "2007                    Arkansas\n",
       "2008                    Arkansas\n",
       "2009                    Arkansas\n",
       "2010                    Arkansas\n",
       "2011                    Arkansas\n",
       "2012                    Arkansas\n",
       "2013                    Arkansas\n",
       "last three years avg    Arkansas\n",
       "dtype: object"
      ]
     },
     "execution_count": 163,
     "metadata": {},
     "output_type": "execute_result"
    }
   ],
   "source": [
    "d.iloc[:,1:11].idxmin()"
   ]
  },
  {
   "cell_type": "code",
   "execution_count": null,
   "metadata": {},
   "outputs": [],
   "source": []
  }
 ],
 "metadata": {
  "kernelspec": {
   "display_name": "Python 3",
   "language": "python",
   "name": "python3"
  },
  "language_info": {
   "codemirror_mode": {
    "name": "ipython",
    "version": 3
   },
   "file_extension": ".py",
   "mimetype": "text/x-python",
   "name": "python",
   "nbconvert_exporter": "python",
   "pygments_lexer": "ipython3",
   "version": "3.7.3"
  }
 },
 "nbformat": 4,
 "nbformat_minor": 2
}
