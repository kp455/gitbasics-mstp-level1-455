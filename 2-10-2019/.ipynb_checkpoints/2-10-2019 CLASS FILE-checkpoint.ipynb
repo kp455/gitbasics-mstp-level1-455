{
 "cells": [
  {
   "cell_type": "markdown",
   "metadata": {},
   "source": [
    "# Regular Expressions"
   ]
  },
  {
   "cell_type": "markdown",
   "metadata": {},
   "source": [
    "1.abc--->that matches the character sequence anywhere in the string.\n",
    "2.^abc--->beginning of the string\n",
    "3.abc$--->end of the string\n",
    "4.a|b---->either a or b\n",
    "5.^abc|abc$--->string abc at the begining or at the end of the string\n",
    "6.ab{2,4}c--->an a followed by two,three or four b's followed by a c\n",
    "7.ab{2,}c--->an a followed by at least two b's followed by a c\n",
    "8.ab*c---->an a followed by any number(zero or more)of b's followed by a c\n",
    "9.ab+c--->an a followed by one or more b's followed by a c\n",
    "10.ab?c----> an a followed by an optional b followed by a c;that is,either abc or ac\n",
    "11.a.c--->an a followed by any single character (not newline) followed by a c\n",
    "12.a\\.c--->a.c exactly"
   ]
  },
  {
   "cell_type": "markdown",
   "metadata": {},
   "source": [
    "# phone number validation"
   ]
  },
  {
   "cell_type": "code",
   "execution_count": 5,
   "metadata": {},
   "outputs": [
    {
     "data": {
      "text/plain": [
       "1"
      ]
     },
     "execution_count": 5,
     "metadata": {},
     "output_type": "execute_result"
    }
   ],
   "source": [
    "#^[0][6-9][0-9]{9}$   # 10 digit number starting with zero\n",
    "#^+91[6789][0-9]{9}$   #10 digit number starting with +91\n",
    "#^[6-9][0-9]{9}$\n",
    "import re\n",
    "def phoneno(no):\n",
    "    pattern=\"^[+][9][1][6789][0-9]{9}$|^[6-9][0-9]{9}$|^[0][6-9][0-9]{9}$\"\n",
    "    if re.match(pattern,str(no)):\n",
    "        return 1\n",
    "    else:\n",
    "        return 0\n",
    "phoneno(\"7689546779\")\n",
    "phoneno(\"+919765432998\")\n",
    "phoneno(\"09876543219\")"
   ]
  },
  {
   "cell_type": "markdown",
   "metadata": {},
   "source": [
    "# email validation"
   ]
  },
  {
   "cell_type": "code",
   "execution_count": 4,
   "metadata": {},
   "outputs": [
    {
     "data": {
      "text/plain": [
       "1"
      ]
     },
     "execution_count": 4,
     "metadata": {},
     "output_type": "execute_result"
    }
   ],
   "source": [
    "#^([0-9]|[a-z]|[A-Z])([0-9]|[A-Z]|[a-z]|[_]){6,14}([0-9]|[a-z])@[a-z]{2,10}[.][a-z]{2,4}$\n",
    "import re\n",
    "def email(e):\n",
    "    pattern=\"^([0-9]|[a-z]|[A-Z])([0-9]|[A-Z]|[a-z]|[_]){6,14}([0-9]|[a-z])@[a-z]{2,10}[.][a-z]{2,4}$\"\n",
    "    if re.match(pattern,str(e)):\n",
    "        return 1\n",
    "    else:\n",
    "        return 0\n",
    "email(\"kpraveena80497@gmail.com\")\n",
    "email(\"162t1a0455@gamil.com\")"
   ]
  },
  {
   "cell_type": "code",
   "execution_count": null,
   "metadata": {},
   "outputs": [],
   "source": [
    "d={\"veena\":[9087654321,kpraveena80497@gmail.com]}"
   ]
  }
 ],
 "metadata": {
  "kernelspec": {
   "display_name": "Python 3",
   "language": "python",
   "name": "python3"
  },
  "language_info": {
   "codemirror_mode": {
    "name": "ipython",
    "version": 3
   },
   "file_extension": ".py",
   "mimetype": "text/x-python",
   "name": "python",
   "nbconvert_exporter": "python",
   "pygments_lexer": "ipython3",
   "version": "3.7.3"
  }
 },
 "nbformat": 4,
 "nbformat_minor": 2
}
