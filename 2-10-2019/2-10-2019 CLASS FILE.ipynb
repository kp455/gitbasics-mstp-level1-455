{
 "cells": [
  {
   "cell_type": "markdown",
   "metadata": {},
   "source": [
    "# Regular Expressions"
   ]
  },
  {
   "cell_type": "markdown",
   "metadata": {},
   "source": [
    "1.abc--->that matches the character sequence anywhere in the string.\n",
    "2.^abc--->beginning of the string\n",
    "3.abc$--->end of the string\n",
    "4.a|b---->either a or b\n",
    "5.^abc|abc$--->string abc at the begining or at the end of the string\n",
    "6.ab{2,4}c--->an a followed by two,three or four b's followed by a c\n",
    "7.ab{2,}c--->an a followed by at least two b's followed by a c\n",
    "8.ab*c---->an a followed by any number(zero or more)of b's followed by a c\n",
    "9.ab+c--->an a followed by one or more b's followed by a c\n",
    "10.ab?c----> an a followed by an optional b followed by a c;that is,either abc or ac\n",
    "11.a.c--->an a followed by any single character (not newline) followed by a c\n",
    "12.a\\.c--->a.c exactly"
   ]
  },
  {
   "cell_type": "markdown",
   "metadata": {},
   "source": [
    "# phone number validation"
   ]
  },
  {
   "cell_type": "code",
   "execution_count": 16,
   "metadata": {},
   "outputs": [
    {
     "data": {
      "text/plain": [
       "1"
      ]
     },
     "execution_count": 16,
     "metadata": {},
     "output_type": "execute_result"
    }
   ],
   "source": [
    "#^[0][6-9][0-9]{9}$   # 10 digit number starting with zero\n",
    "#^+91[6789][0-9]{9}$   #10 digit number starting with +91\n",
    "#^[6-9][0-9]{9}$\n",
    "import re\n",
    "def phoneno(no):\n",
    "    pattern=\"^[+][9][1][6789][0-9]{9}$|^[6-9][0-9]{9}$|^[0][6-9][0-9]{9}$\"\n",
    "    if re.match(pattern,str(no)):\n",
    "        return 1\n",
    "    else:\n",
    "        return 0\n",
    "phoneno(\"7689546779\")\n",
    "phoneno(\"+919765432998\")\n",
    "phoneno(\"09876543219\")"
   ]
  },
  {
   "cell_type": "markdown",
   "metadata": {},
   "source": [
    "# email validation"
   ]
  },
  {
   "cell_type": "code",
   "execution_count": 17,
   "metadata": {},
   "outputs": [
    {
     "data": {
      "text/plain": [
       "1"
      ]
     },
     "execution_count": 17,
     "metadata": {},
     "output_type": "execute_result"
    }
   ],
   "source": [
    "#^([0-9]|[a-z]|[A-Z])([0-9]|[A-Z]|[a-z]|[_]){6,14}([0-9]|[a-z])@[a-z]{2,10}[.][a-z]{2,4}$\n",
    "import re\n",
    "def email(e):\n",
    "    pattern=\"^([0-9]|[a-z]|[A-Z])([0-9]|[A-Z]|[a-z]|[_]){6,14}([0-9]|[a-z])@[a-z]{2,10}[.][a-z]{2,4}$\"\n",
    "    if re.match(pattern,str(e)):\n",
    "        return 1\n",
    "    else:\n",
    "        return 0\n",
    "email(\"kpraveena80497@gmail.com\")\n",
    "email(\"162t1a0455@gamil.com\")"
   ]
  },
  {
   "cell_type": "code",
   "execution_count": 27,
   "metadata": {},
   "outputs": [
    {
     "name": "stdout",
     "output_type": "stream",
     "text": [
      "phone verified successfully\n",
      "email verified successfully\n"
     ]
    },
    {
     "data": {
      "text/plain": [
       "{'veena': ['9087654321', 'kpraveena80497@gmail.com'],\n",
       " 'chinnu': ['7658934563', 'chinnu234@gmail.com'],\n",
       " 'kpr': ['7564653458', 'kpraveena455@gmail.com'],\n",
       " 'vikki': ['9087654321', 'vikki80497@gmail.com']}"
      ]
     },
     "execution_count": 27,
     "metadata": {},
     "output_type": "execute_result"
    }
   ],
   "source": [
    "contact={\"veena\":[\"9087654321\",\"kpraveena80497@gmail.com\"],\"chinnu\":[\"7658934563\",\"chinnu234@gmail.com\"],\"kpr\":[\"7564653458\",\"kpraveena455@gmail.com\"]}\n",
    "def addcontact(name,l):\n",
    "    if name not in contact:\n",
    "        no=l[0]\n",
    "        e=l[1]\n",
    "        if phoneno(no)==1:\n",
    "            print(\"phone verified successfully\")\n",
    "            if email(e)==1:\n",
    "                 print(\"email verified successfully\")\n",
    "            contact[name]=l\n",
    "        else:\n",
    "             print(\"enter a valid no and emailid\")\n",
    "    else:\n",
    "        print(\"contact already exists\")\n",
    "addcontact(\"vikki\",[\"9087654321\",\"vikki80497@gmail.com\"])\n",
    "contact   \n",
    "    \n"
   ]
  },
  {
   "cell_type": "code",
   "execution_count": null,
   "metadata": {},
   "outputs": [],
   "source": []
  }
 ],
 "metadata": {
  "kernelspec": {
   "display_name": "Python 3",
   "language": "python",
   "name": "python3"
  },
  "language_info": {
   "codemirror_mode": {
    "name": "ipython",
    "version": 3
   },
   "file_extension": ".py",
   "mimetype": "text/x-python",
   "name": "python",
   "nbconvert_exporter": "python",
   "pygments_lexer": "ipython3",
   "version": "3.7.3"
  }
 },
 "nbformat": 4,
 "nbformat_minor": 2
}
