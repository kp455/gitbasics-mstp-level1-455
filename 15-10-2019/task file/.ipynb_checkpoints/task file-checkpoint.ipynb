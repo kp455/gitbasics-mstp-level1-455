{
 "cells": [
  {
   "cell_type": "code",
   "execution_count": 19,
   "metadata": {},
   "outputs": [],
   "source": [
    "filepath=\"studentmarks.txt\"\n",
    "import random\n",
    "def marks(filepath,n):\n",
    "    with open(filepath,'w') as f:\n",
    "        for i in  range(n):\n",
    "            f.write(str(random.randint(1,100))+'\\n')\n",
    "marks(filepath,50)"
   ]
  },
  {
   "cell_type": "markdown",
   "metadata": {},
   "source": [
    "# first class"
   ]
  },
  {
   "cell_type": "code",
   "execution_count": 20,
   "metadata": {},
   "outputs": [
    {
     "name": "stdout",
     "output_type": "stream",
     "text": [
      "24.0\n",
      "50\n"
     ]
    }
   ],
   "source": [
    "filepath=\"studentmarks.txt\"\n",
    "def firstclass(filepath):\n",
    "    s=0\n",
    "    c=0\n",
    "    with open(filepath,\"r\")as f:\n",
    "        f1=f.read()\n",
    "        l=f1.split()\n",
    "        for i in l:\n",
    "            c=c+1\n",
    "            if int(i)>=75:\n",
    "                s+=1\n",
    "        \n",
    "        print((s/c)*100)\n",
    "        print(c)\n",
    "    \n",
    "firstclass(filepath)"
   ]
  },
  {
   "cell_type": "markdown",
   "metadata": {},
   "source": [
    "# second class"
   ]
  },
  {
   "cell_type": "code",
   "execution_count": 21,
   "metadata": {},
   "outputs": [
    {
     "name": "stdout",
     "output_type": "stream",
     "text": [
      "50\n",
      "18.0\n"
     ]
    }
   ],
   "source": [
    "filepath=\"studentmarks.txt\"\n",
    "def secondclass(filepath):\n",
    "    fail_count=0\n",
    "    total_count=0\n",
    "    with open(filepath,'r') as f:\n",
    "        f1=f.read()\n",
    "        l=f1.split()\n",
    "        for i in l:\n",
    "            total_count=total_count+1\n",
    "            if int(i)>=50 and int(i)<=75:\n",
    "                fail_count=fail_count+1\n",
    "        print(total_count)\n",
    "                \n",
    "        print((fail_count/total_count)*100)\n",
    "                \n",
    "                \n",
    "secondclass(filepath)"
   ]
  },
  {
   "cell_type": "markdown",
   "metadata": {},
   "source": [
    "# Third class"
   ]
  },
  {
   "cell_type": "code",
   "execution_count": 23,
   "metadata": {},
   "outputs": [
    {
     "name": "stdout",
     "output_type": "stream",
     "text": [
      "50\n",
      "22.0\n"
     ]
    }
   ],
   "source": [
    "filepath=\"studentmarks.txt\"\n",
    "def thirdclass(filepath):\n",
    "    fail_count=0\n",
    "    total_count=0\n",
    "    with open(filepath,'r') as f:\n",
    "        f1=f.read()\n",
    "        l=f1.split()\n",
    "        for i in l:\n",
    "            total_count=total_count+1\n",
    "            if int(i)>=35 and int(i)<=50:\n",
    "                fail_count=fail_count+1\n",
    "        print(total_count)\n",
    "                \n",
    "        print((fail_count/total_count)*100)\n",
    "                \n",
    "                \n",
    "thirdclass(filepath)"
   ]
  },
  {
   "cell_type": "code",
   "execution_count": null,
   "metadata": {},
   "outputs": [],
   "source": []
  }
 ],
 "metadata": {
  "kernelspec": {
   "display_name": "Python 3",
   "language": "python",
   "name": "python3"
  },
  "language_info": {
   "codemirror_mode": {
    "name": "ipython",
    "version": 3
   },
   "file_extension": ".py",
   "mimetype": "text/x-python",
   "name": "python",
   "nbconvert_exporter": "python",
   "pygments_lexer": "ipython3",
   "version": "3.7.3"
  }
 },
 "nbformat": 4,
 "nbformat_minor": 2
}
