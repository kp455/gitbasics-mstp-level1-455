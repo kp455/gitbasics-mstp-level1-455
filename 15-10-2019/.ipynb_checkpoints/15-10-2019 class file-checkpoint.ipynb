{
 "cells": [
  {
   "cell_type": "code",
   "execution_count": 3,
   "metadata": {},
   "outputs": [],
   "source": [
    "filepath=\"content.txt\"\n",
    "def create (filepath):\n",
    "    with open(filepath,'w') as f:\n",
    "        f.write(\"hii\\n hello \\n welcome to python\")\n",
    "create(filepath)"
   ]
  },
  {
   "cell_type": "code",
   "execution_count": 4,
   "metadata": {},
   "outputs": [
    {
     "name": "stdout",
     "output_type": "stream",
     "text": [
      "hii\n",
      " hello \n",
      " welcome to python\n"
     ]
    }
   ],
   "source": [
    "#PRINT THE CONTENT OF A FILE\n",
    "filepath=\"content.txt\"\n",
    "def readdata(filepath):\n",
    "    with open(filepath,'r')as f:\n",
    "        f1=f.read()\n",
    "        print(f1)\n",
    "readdata(filepath)"
   ]
  },
  {
   "cell_type": "markdown",
   "metadata": {},
   "source": [
    "# generate a file of 50 student marks"
   ]
  },
  {
   "cell_type": "code",
   "execution_count": 2,
   "metadata": {},
   "outputs": [],
   "source": [
    "filepath=\"studentmarks.txt\"\n",
    "import random\n",
    "def marks(filepath,n):\n",
    "    with open(filepath,'w') as f:\n",
    "        for i in  range(n):\n",
    "            f.write(str(random.randint(1,100))+'\\n')\n",
    "marks(filepath,50)"
   ]
  },
  {
   "cell_type": "code",
   "execution_count": 3,
   "metadata": {},
   "outputs": [],
   "source": [
    "# class average \n",
    "# pass percentage\n",
    "# fail percentage\n",
    "# highest marks\n",
    "## lowest marks"
   ]
  },
  {
   "cell_type": "markdown",
   "metadata": {},
   "source": [
    "# class average "
   ]
  },
  {
   "cell_type": "code",
   "execution_count": 7,
   "metadata": {},
   "outputs": [
    {
     "name": "stdout",
     "output_type": "stream",
     "text": [
      "2771\n",
      "50\n"
     ]
    },
    {
     "data": {
      "text/plain": [
       "5500"
      ]
     },
     "execution_count": 7,
     "metadata": {},
     "output_type": "execute_result"
    }
   ],
   "source": [
    "filepath=\"studentmarks.txt\"\n",
    "def classavg(filepath):\n",
    "    s=0\n",
    "    c=0\n",
    "    with open(filepath,'r')as f:\n",
    "        f1=f.read()\n",
    "        l=f1.split()\n",
    "        for i in l:\n",
    "            s=s+int(i)\n",
    "            c=c+1\n",
    "        avg=s//c*100\n",
    "        print(s)\n",
    "        print(c)\n",
    "    return avg\n",
    "classavg(filepath)"
   ]
  },
  {
   "cell_type": "markdown",
   "metadata": {},
   "source": [
    "# pass percentage"
   ]
  },
  {
   "cell_type": "code",
   "execution_count": 13,
   "metadata": {},
   "outputs": [
    {
     "name": "stdout",
     "output_type": "stream",
     "text": [
      "50\n",
      "74.0\n"
     ]
    }
   ],
   "source": [
    "filepath=\"studentmarks.txt\"\n",
    "def passpercent(filepath):\n",
    "    passed_count=0\n",
    "    total_count=0\n",
    "    with open(filepath,'r') as f:\n",
    "        f1=f.read()\n",
    "        l=f1.split()\n",
    "        for i in l:\n",
    "            total_count=total_count+1\n",
    "            if int(i)>=35:\n",
    "                passed_count=passed_count+1\n",
    "        print(total_count)\n",
    "                \n",
    "        print((passed_count/total_count)*100)\n",
    "                \n",
    "                \n",
    "passpercent(filepath)                "
   ]
  },
  {
   "cell_type": "markdown",
   "metadata": {},
   "source": [
    "# fail percentage"
   ]
  },
  {
   "cell_type": "code",
   "execution_count": 14,
   "metadata": {},
   "outputs": [
    {
     "name": "stdout",
     "output_type": "stream",
     "text": [
      "50\n",
      "26.0\n"
     ]
    }
   ],
   "source": [
    "filepath=\"studentmarks.txt\"\n",
    "def failpercent(filepath):\n",
    "    fail_count=0\n",
    "    total_count=0\n",
    "    with open(filepath,'r') as f:\n",
    "        f1=f.read()\n",
    "        l=f1.split()\n",
    "        for i in l:\n",
    "            total_count=total_count+1\n",
    "            if int(i)<35:\n",
    "                fail_count=fail_count+1\n",
    "        print(total_count)\n",
    "                \n",
    "        print((fail_count/total_count)*100)\n",
    "                \n",
    "                \n",
    "failpercent(filepath)\n",
    "\n"
   ]
  },
  {
   "cell_type": "markdown",
   "metadata": {},
   "source": [
    "# highest marks"
   ]
  },
  {
   "cell_type": "code",
   "execution_count": 21,
   "metadata": {},
   "outputs": [
    {
     "name": "stdout",
     "output_type": "stream",
     "text": [
      "100 98 96 94 91 "
     ]
    }
   ],
   "source": [
    "filepath=\"studentmarks.txt\"\n",
    "def highestmarks(filepath):\n",
    "    count=0\n",
    "    sum=0\n",
    "    with open(filepath,'r') as f:\n",
    "        f1=f.read()\n",
    "        l=f1.split()\n",
    "        for i in l:\n",
    "            count+=1\n",
    "            if int(i)>=90:\n",
    "                print(i,end=\" \")\n",
    "    \n",
    "highestmarks(filepath)    "
   ]
  },
  {
   "cell_type": "markdown",
   "metadata": {},
   "source": [
    "## lowest marks"
   ]
  },
  {
   "cell_type": "code",
   "execution_count": 23,
   "metadata": {},
   "outputs": [
    {
     "name": "stdout",
     "output_type": "stream",
     "text": [
      "7 16 9 5 4 11 "
     ]
    }
   ],
   "source": [
    "filepath=\"studentmarks.txt\"\n",
    "def lowestmarks(filepath):\n",
    "    count=0\n",
    "    sum=0\n",
    "    with open(filepath,'r') as f:\n",
    "        f1=f.read()\n",
    "        l=f1.split()\n",
    "        for i in l:\n",
    "            count+=1\n",
    "            if int(i)<20:\n",
    "                print(i,end=\" \")\n",
    "    \n",
    "lowestmarks(filepath)"
   ]
  },
  {
   "cell_type": "code",
   "execution_count": 28,
   "metadata": {},
   "outputs": [
    {
     "name": "stdout",
     "output_type": "stream",
     "text": [
      "['hii', ' hello ', ' welcome to python', 'hii']\n",
      "hii : 2\n",
      " hello  : 1\n",
      " welcome to python : 1\n",
      "hii : 2\n"
     ]
    }
   ],
   "source": [
    "filepath=\"content.txt\"\n",
    "def frequencyofwords(filepath):\n",
    "    with open(filepath,'r')as f:\n",
    "        f1=f.read()\n",
    "        l=f1.split('\\n')\n",
    "        print(l)\n",
    "        for i in l:\n",
    "            print(i,':',l.count(i))\n",
    "frequencyofwords(filepath)"
   ]
  },
  {
   "cell_type": "code",
   "execution_count": 26,
   "metadata": {},
   "outputs": [
    {
     "name": "stdout",
     "output_type": "stream",
     "text": [
      "['hii', ' hello ', ' welcome to python', 'hii']\n",
      " hello  : 1\n",
      " welcome to python : 1\n",
      "hii : 2\n"
     ]
    }
   ],
   "source": [
    "#frequency of words using set\n",
    "filepath=\"content.txt\"\n",
    "def frequencyofwords(filepath):\n",
    "    with open(filepath,'r')as f:\n",
    "        f1=f.read()\n",
    "        l=f1.split('\\n')\n",
    "        print(l)\n",
    "        for i in set(l):\n",
    "            print(i,':',l.count(i))\n",
    "frequencyofwords(filepath)"
   ]
  },
  {
   "cell_type": "code",
   "execution_count": 29,
   "metadata": {},
   "outputs": [
    {
     "name": "stdout",
     "output_type": "stream",
     "text": [
      "['hii', ' hello ', ' welcome to python', 'hii']\n"
     ]
    },
    {
     "data": {
      "text/plain": [
       "{'hii': 2, ' hello ': 1, ' welcome to python': 1}"
      ]
     },
     "execution_count": 29,
     "metadata": {},
     "output_type": "execute_result"
    }
   ],
   "source": [
    "#frequency of words using dictionaries\n",
    "filepath=\"content.txt\"\n",
    "def frequencyofwords(filepath):\n",
    "    d={}\n",
    "    with open(filepath,'r')as f:\n",
    "        f1=f.read()#string with individual charcters\n",
    "        l=f1.split('\\n')#list\n",
    "        print(l)\n",
    "        for i in l:\n",
    "            d[i]=l.count(i)\n",
    "    return d\n",
    "frequencyofwords(filepath)"
   ]
  },
  {
   "cell_type": "code",
   "execution_count": 31,
   "metadata": {},
   "outputs": [
    {
     "name": "stdout",
     "output_type": "stream",
     "text": [
      "Help on method_descriptor:\n",
      "\n",
      "replace(self, old, new, count=-1, /)\n",
      "    Return a copy with all occurrences of substring old replaced by new.\n",
      "    \n",
      "      count\n",
      "        Maximum number of occurrences to replace.\n",
      "        -1 (the default value) means replace all occurrences.\n",
      "    \n",
      "    If the optional argument count is given, only the first count occurrences are\n",
      "    replaced.\n",
      "\n"
     ]
    }
   ],
   "source": [
    "help(str.replace)"
   ]
  },
  {
   "cell_type": "markdown",
   "metadata": {},
   "source": [
    "# replace of data to a new data\n"
   ]
  },
  {
   "cell_type": "code",
   "execution_count": 32,
   "metadata": {},
   "outputs": [
    {
     "name": "stdout",
     "output_type": "stream",
     "text": [
      "hii\n",
      " hello \n",
      " welcome to python\n",
      "hii hii\n",
      " hello \n",
      " veena to python\n",
      "hii "
     ]
    }
   ],
   "source": [
    "filepath=\"content.txt\"\n",
    "def findreplace(filepath):\n",
    "    with open(filepath,'r') as f:\n",
    "        f1=f.read()\n",
    "        s=f1.replace(\"welcome\",\"veena\")\n",
    "    print(f1,end=\" \")\n",
    "    print(s,end=\" \")\n",
    "findreplace(filepath)"
   ]
  },
  {
   "cell_type": "code",
   "execution_count": null,
   "metadata": {},
   "outputs": [],
   "source": []
  }
 ],
 "metadata": {
  "kernelspec": {
   "display_name": "Python 3",
   "language": "python",
   "name": "python3"
  },
  "language_info": {
   "codemirror_mode": {
    "name": "ipython",
    "version": 3
   },
   "file_extension": ".py",
   "mimetype": "text/x-python",
   "name": "python",
   "nbconvert_exporter": "python",
   "pygments_lexer": "ipython3",
   "version": "3.7.3"
  }
 },
 "nbformat": 4,
 "nbformat_minor": 2
}
