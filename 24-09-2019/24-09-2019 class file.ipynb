{
 "cells": [
  {
   "cell_type": "markdown",
   "metadata": {},
   "source": [
    "# FUNCTIONS\n",
    "## Reusability\n",
    "### easy to debug\n",
    "#### function defination\n",
    "##### function calling\n",
    "function declaration\n",
    "function defination\n",
    "function calling"
   ]
  },
  {
   "cell_type": "code",
   "execution_count": 9,
   "metadata": {},
   "outputs": [
    {
     "ename": "SyntaxError",
     "evalue": "invalid syntax (<ipython-input-9-86dc2244c402>, line 4)",
     "output_type": "error",
     "traceback": [
      "\u001b[1;36m  File \u001b[1;32m\"<ipython-input-9-86dc2244c402>\"\u001b[1;36m, line \u001b[1;32m4\u001b[0m\n\u001b[1;33m    functionname() ''#function call''\u001b[0m\n\u001b[1;37m                    ^\u001b[0m\n\u001b[1;31mSyntaxError\u001b[0m\u001b[1;31m:\u001b[0m invalid syntax\n"
     ]
    }
   ],
   "source": [
    "def functionname(): # function defination\n",
    "    statement1\n",
    "    statement2\n",
    "functionname() ''#function call''\n",
    "    \n"
   ]
  },
  {
   "cell_type": "code",
   "execution_count": 2,
   "metadata": {},
   "outputs": [
    {
     "name": "stdout",
     "output_type": "stream",
     "text": [
      "45\n",
      "56\n",
      "101\n"
     ]
    }
   ],
   "source": [
    "def addition():\n",
    "    a=int(input())\n",
    "    b=int(input())\n",
    "    print(a+b)\n",
    "addition()"
   ]
  },
  {
   "cell_type": "code",
   "execution_count": 10,
   "metadata": {},
   "outputs": [
    {
     "name": "stdout",
     "output_type": "stream",
     "text": [
      "34\n",
      "45\n",
      "79\n"
     ]
    }
   ],
   "source": [
    "def addition(a,b):     #functions with arguments\n",
    "    c=a+b\n",
    "    print(c)\n",
    "a=input()\n",
    "b=input()\n",
    "addition(int(a),int(b))"
   ]
  },
  {
   "cell_type": "code",
   "execution_count": 5,
   "metadata": {},
   "outputs": [
    {
     "data": {
      "text/plain": [
       "(20, 30, 50)"
      ]
     },
     "execution_count": 5,
     "metadata": {},
     "output_type": "execute_result"
    }
   ],
   "source": [
    "def add(a,b):\n",
    "    c=a+b\n",
    "    return(a,b,c) \n",
    "add(20,30)"
   ]
  },
  {
   "cell_type": "code",
   "execution_count": 8,
   "metadata": {},
   "outputs": [
    {
     "name": "stdout",
     "output_type": "stream",
     "text": [
      "4\n",
      "even\n"
     ]
    }
   ],
   "source": [
    "#even or odd with arguments\n",
    "def evenorodd(a):\n",
    "    if a%2==0:\n",
    "        print(\"even\")\n",
    "    else:\n",
    "        print(\"odd\")\n",
    "a=int(input())\n",
    "evenorodd(a)\n",
    "\n",
    "     "
   ]
  },
  {
   "cell_type": "code",
   "execution_count": 6,
   "metadata": {},
   "outputs": [
    {
     "name": "stdout",
     "output_type": "stream",
     "text": [
      "1\n",
      "3\n",
      "6\n",
      "10\n",
      "15\n",
      "21\n",
      "28\n",
      "36\n",
      "45\n",
      "55\n",
      "55\n"
     ]
    }
   ],
   "source": [
    "#sum of n natural numbers\n",
    "def sum(n):\n",
    "    s=0\n",
    "    for i in range (1,n+1):\n",
    "        s=s+i\n",
    "        print(s)\n",
    "    print(s)\n",
    "sum(10)"
   ]
  },
  {
   "cell_type": "code",
   "execution_count": 3,
   "metadata": {},
   "outputs": [
    {
     "name": "stdout",
     "output_type": "stream",
     "text": [
      "1\n",
      "2\n",
      "6\n",
      "24\n",
      "120\n",
      "720\n",
      "5040\n",
      "40320\n",
      "362880\n",
      "3628800\n",
      "3628800\n"
     ]
    }
   ],
   "source": [
    "1.#product of natural nubers\n",
    "def product(a):\n",
    "    s=1 \n",
    "    for i in range(1,a+1):\n",
    "        s=s*i\n",
    "        print(s)\n",
    "    print(s)\n",
    "product(10)\n",
    "    "
   ]
  },
  {
   "cell_type": "code",
   "execution_count": 1,
   "metadata": {},
   "outputs": [
    {
     "name": "stdout",
     "output_type": "stream",
     "text": [
      "10\n",
      "5.6\n"
     ]
    }
   ],
   "source": [
    "2.#avg of first natural numbers\n",
    "def avg(a):\n",
    "    sum=1\n",
    "    count=0\n",
    "    for i in range(1,a+1):\n",
    "        sum=sum+i\n",
    "        count=count+1\n",
    "    print(sum/count)\n",
    "    \n",
    "a=int(input())\n",
    "avg(a)"
   ]
  },
  {
   "cell_type": "code",
   "execution_count": 7,
   "metadata": {},
   "outputs": [
    {
     "name": "stdout",
     "output_type": "stream",
     "text": [
      "10\n",
      "1\n",
      "1\n",
      "2\n",
      "3\n",
      "5\n",
      "8\n",
      "13\n",
      "21\n",
      "34\n",
      "55\n"
     ]
    }
   ],
   "source": [
    "3.#fibanocci\n",
    "def fibanocci(n):\n",
    "    a=0\n",
    "    b=1\n",
    "    c=0\n",
    "    for i in range(0,n):\n",
    "        a=b\n",
    "        b=c\n",
    "        c=a+b\n",
    "        print(c)\n",
    "        \n",
    "n=int(input())\n",
    "fibanocci(n)"
   ]
  },
  {
   "cell_type": "code",
   "execution_count": 2,
   "metadata": {},
   "outputs": [
    {
     "name": "stdout",
     "output_type": "stream",
     "text": [
      "10\n",
      "1 2 5 10 "
     ]
    }
   ],
   "source": [
    "4.#factors\n",
    "def factors(a):\n",
    "     for i in range(1,a+1):\n",
    "            if a%i==0:\n",
    "                print(i,end=\" \")\n",
    "a=int(input())\n",
    "factors(a)\n",
    "    "
   ]
  },
  {
   "cell_type": "code",
   "execution_count": 2,
   "metadata": {},
   "outputs": [
    {
     "name": "stdout",
     "output_type": "stream",
     "text": [
      "10\n",
      "1 2 5 10 sum---> 18\n"
     ]
    }
   ],
   "source": [
    "5.#factors sum\n",
    "def factorssum(n):\n",
    "    sum=0\n",
    "    for i in range(1,n+1):\n",
    "        if(n%i==0):\n",
    "            sum=sum+i\n",
    "            print(i,end=\" \")\n",
    "    print(\"sum--->\",sum)\n",
    "n=int(input())\n",
    "factorssum(n)"
   ]
  },
  {
   "cell_type": "code",
   "execution_count": 20,
   "metadata": {},
   "outputs": [
    {
     "name": "stdout",
     "output_type": "stream",
     "text": [
      "2000\n",
      "leap year\n"
     ]
    }
   ],
   "source": [
    "6.#leapyear or not\n",
    "def leap(x):\n",
    "    if (x%4==0 or x%100!=0)and(x%400==0):\n",
    "        print(\"leap year\")\n",
    "    else:\n",
    "        print(\"not leap year\")\n",
    "x=int(input())\n",
    "leap(x)"
   ]
  },
  {
   "cell_type": "code",
   "execution_count": null,
   "metadata": {},
   "outputs": [],
   "source": [
    "\n",
    "    "
   ]
  }
 ],
 "metadata": {
  "kernelspec": {
   "display_name": "Python 3",
   "language": "python",
   "name": "python3"
  },
  "language_info": {
   "codemirror_mode": {
    "name": "ipython",
    "version": 3
   },
   "file_extension": ".py",
   "mimetype": "text/x-python",
   "name": "python",
   "nbconvert_exporter": "python",
   "pygments_lexer": "ipython3",
   "version": "3.7.3"
  }
 },
 "nbformat": 4,
 "nbformat_minor": 2
}
