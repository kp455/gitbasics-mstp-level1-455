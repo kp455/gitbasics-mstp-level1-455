{
 "cells": [
  {
   "cell_type": "markdown",
   "metadata": {},
   "source": [
    "1.Check if the number exist in a given range (inputs: number(n), range(lower number and upper number) \n"
   ]
  },
  {
   "cell_type": "code",
   "execution_count": 2,
   "metadata": {},
   "outputs": [
    {
     "name": "stdout",
     "output_type": "stream",
     "text": [
      "4\n",
      "8\n",
      "5\n",
      "true\n"
     ]
    }
   ],
   "source": [
    "def number(lb,ub,n):\n",
    "    if range(lb<n<ub):\n",
    "        print(\"true\")\n",
    "    else:\n",
    "        print(\"false\")\n",
    "lb=int(input())\n",
    "ub=int(input())\n",
    "n=int(input())\n",
    "number(lb,ub,n)\n",
    "        \n",
    "    "
   ]
  },
  {
   "cell_type": "markdown",
   "metadata": {},
   "source": [
    "2.Check the number of digits in a given number"
   ]
  },
  {
   "cell_type": "code",
   "execution_count": 3,
   "metadata": {},
   "outputs": [
    {
     "name": "stdout",
     "output_type": "stream",
     "text": [
      "1245\n",
      "4\n"
     ]
    }
   ],
   "source": [
    "def number(a):\n",
    "    n=len(a)\n",
    "    print(n)\n",
    "a=input()\n",
    "number(a)"
   ]
  },
  {
   "cell_type": "markdown",
   "metadata": {},
   "source": [
    "3.Check if the given number is a factor of 1000 \n"
   ]
  },
  {
   "cell_type": "code",
   "execution_count": 26,
   "metadata": {},
   "outputs": [
    {
     "name": "stdout",
     "output_type": "stream",
     "text": [
      "4\n",
      "yes\n"
     ]
    }
   ],
   "source": [
    "def factor(n):\n",
    "    if((1000%n)==0):\n",
    "        print(\"yes\")\n",
    "    else:\n",
    "        print(\"no\")\n",
    "n=int(input())\n",
    "factor(n)"
   ]
  },
  {
   "cell_type": "markdown",
   "metadata": {},
   "source": [
    "4.Calculate the square root of a given number \n"
   ]
  },
  {
   "cell_type": "code",
   "execution_count": 13,
   "metadata": {},
   "outputs": [
    {
     "name": "stdout",
     "output_type": "stream",
     "text": [
      "6\n",
      "2.449489742783178\n"
     ]
    }
   ],
   "source": [
    "def squareroot(n):\n",
    "    print(n**(1/2))\n",
    "n=int(input())\n",
    "squareroot(n)"
   ]
  },
  {
   "cell_type": "markdown",
   "metadata": {},
   "source": [
    "5.python program to take values of length and breadth(width) of a rectangle from user and check if it is square or not. . \n"
   ]
  },
  {
   "cell_type": "code",
   "execution_count": 16,
   "metadata": {},
   "outputs": [
    {
     "name": "stdout",
     "output_type": "stream",
     "text": [
      "4\n",
      "4\n",
      "square\n"
     ]
    }
   ],
   "source": [
    "def square(n):\n",
    "    if(l==b):\n",
    "        print(\"square\")\n",
    "    else:\n",
    "        print(\"reactangle\")\n",
    "l=int(input())\n",
    "b=int(input())\n",
    "square(n)"
   ]
  },
  {
   "cell_type": "markdown",
   "metadata": {},
   "source": [
    "6.A school has following rules for grading system:\n",
    "* Below 25 - F\n",
    "* 25 to 45 - E\n",
    "*  45 to 50 - D\n",
    "* 50 to 60 - C\n",
    "* 60 to 80 - B\n",
    "* Above 80 - A\n",
    "Ask user to enter marks and print the corresponding grade. "
   ]
  },
  {
   "cell_type": "code",
   "execution_count": 2,
   "metadata": {},
   "outputs": [
    {
     "name": "stdout",
     "output_type": "stream",
     "text": [
      "13\n",
      "F\n"
     ]
    }
   ],
   "source": [
    "def marks(m):\n",
    "    if m<25:\n",
    "        print(\"F\")\n",
    "    elif m>=25 and m<45:\n",
    "        print(\"E\")\n",
    "    elif m>=45 and m<50:\n",
    "        print(\"D\")\n",
    "    elif m>=50 and m<60:\n",
    "        print(\"C\")\n",
    "    elif m>=60 and m<80:\n",
    "        print(\"B\")\n",
    "    else:\n",
    "        print(\"A\")\n",
    "m=int(input())\n",
    "marks(m)\n",
    "        "
   ]
  },
  {
   "cell_type": "markdown",
   "metadata": {},
   "source": [
    "7..Take input of age of 3 people by user and determine oldest and youngest among them. "
   ]
  },
  {
   "cell_type": "code",
   "execution_count": 5,
   "metadata": {},
   "outputs": [
    {
     "name": "stdout",
     "output_type": "stream",
     "text": [
      "20\n",
      "50\n",
      "90\n",
      "oldest 90\n",
      "young 20\n"
     ]
    }
   ],
   "source": [
    "p=int(input())\n",
    "k=int(input())\n",
    "n=int(input())\n",
    "if p>k and p>n:\n",
    "    oldest=p\n",
    "elif k>p and k>n:\n",
    "    oldest=k\n",
    "else:\n",
    "    oldest=n\n",
    "if p<k and p<n:\n",
    "    young=p\n",
    "elif k<p and k<n:\n",
    "    young=k\n",
    "else:\n",
    "    young=n\n",
    "    \n",
    "print(\"oldest\",oldest)\n",
    "print(\"young\",young)\n",
    "    \n"
   ]
  },
  {
   "cell_type": "markdown",
   "metadata": {},
   "source": [
    "###### 8.A student will not be allowed to sit in exam if his/her attendance is less than 75%.\n",
    "* Take following input from user Number of classes held,Number of classes attended.\n",
    "* And print percentage of class attended Is student is allowed to sit in exam or not. \n"
   ]
  },
  {
   "cell_type": "code",
   "execution_count": 5,
   "metadata": {},
   "outputs": [
    {
     "name": "stdout",
     "output_type": "stream",
     "text": [
      "340\n",
      "19\n",
      "5.588235294117648\n",
      "not allowed to exam\n"
     ]
    }
   ],
   "source": [
    "def exam(ch,ca):\n",
    "    n=(ca/ch)*100\n",
    "    print(n)\n",
    "    if(n>=75):\n",
    "        print(\"allowed to exam\")\n",
    "    else:\n",
    "        print(\"not allowed to exam\")\n",
    "ch=int(input())\n",
    "ca=int(input())\n",
    "exam(ch,ca)\n",
    "        "
   ]
  },
  {
   "cell_type": "code",
   "execution_count": null,
   "metadata": {},
   "outputs": [],
   "source": []
  }
 ],
 "metadata": {
  "kernelspec": {
   "display_name": "Python 3",
   "language": "python",
   "name": "python3"
  },
  "language_info": {
   "codemirror_mode": {
    "name": "ipython",
    "version": 3
   },
   "file_extension": ".py",
   "mimetype": "text/x-python",
   "name": "python",
   "nbconvert_exporter": "python",
   "pygments_lexer": "ipython3",
   "version": "3.7.3"
  }
 },
 "nbformat": 4,
 "nbformat_minor": 2
}
